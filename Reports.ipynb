{
 "cells": [
  {
   "cell_type": "markdown",
   "metadata": {},
   "source": [
    "## This hackathon focused on creating visionary hacks so I decided to look at crime reports at UVA. I ultimately wanted to create an algorithm that could predict locations of where crime would happen. Unfortunately I didn't have enough time to implement that so I stuck with clustering the data of police reports, onto a latitude and longitude map"
   ]
  },
  {
   "cell_type": "code",
   "execution_count": 10,
   "metadata": {},
   "outputs": [
    {
     "data": {
      "text/html": [
       "<div>\n",
       "<style scoped>\n",
       "    .dataframe tbody tr th:only-of-type {\n",
       "        vertical-align: middle;\n",
       "    }\n",
       "\n",
       "    .dataframe tbody tr th {\n",
       "        vertical-align: top;\n",
       "    }\n",
       "\n",
       "    .dataframe thead th {\n",
       "        text-align: right;\n",
       "    }\n",
       "</style>\n",
       "<table border=\"1\" class=\"dataframe\">\n",
       "  <thead>\n",
       "    <tr style=\"text-align: right;\">\n",
       "      <th></th>\n",
       "      <th>incident_id</th>\n",
       "      <th>case_number</th>\n",
       "      <th>incident_datetime</th>\n",
       "      <th>incident_type_primary</th>\n",
       "      <th>incident_description</th>\n",
       "      <th>clearance_type</th>\n",
       "      <th>address_1</th>\n",
       "      <th>address_2</th>\n",
       "      <th>city</th>\n",
       "      <th>state</th>\n",
       "      <th>...</th>\n",
       "      <th>country</th>\n",
       "      <th>latitude</th>\n",
       "      <th>longitude</th>\n",
       "      <th>created_at</th>\n",
       "      <th>updated_at</th>\n",
       "      <th>location</th>\n",
       "      <th>hour_of_day</th>\n",
       "      <th>day_of_week</th>\n",
       "      <th>parent_incident_type</th>\n",
       "      <th>University of Virginia Public Engines Shapes - srfu-ji83</th>\n",
       "    </tr>\n",
       "  </thead>\n",
       "  <tbody>\n",
       "    <tr>\n",
       "      <th>0</th>\n",
       "      <td>829424782</td>\n",
       "      <td>2016-00000240</td>\n",
       "      <td>3/2/16 14:04</td>\n",
       "      <td>THEFT FROM BUILDING</td>\n",
       "      <td>THEFT FROM BUILDING</td>\n",
       "      <td>NaN</td>\n",
       "      <td>100 Block MCCORMICK RD</td>\n",
       "      <td>NaN</td>\n",
       "      <td>CHARLOTTESVILLE</td>\n",
       "      <td>VA</td>\n",
       "      <td>...</td>\n",
       "      <td>NaN</td>\n",
       "      <td>38.036695</td>\n",
       "      <td>-78.505187</td>\n",
       "      <td>12/20/17 18:23</td>\n",
       "      <td>12/20/17 22:16</td>\n",
       "      <td>POINT (-78.50518699999999 38.0366948)</td>\n",
       "      <td>14</td>\n",
       "      <td>Wednesday</td>\n",
       "      <td>Theft</td>\n",
       "      <td>361237.0</td>\n",
       "    </tr>\n",
       "    <tr>\n",
       "      <th>1</th>\n",
       "      <td>829424633</td>\n",
       "      <td>2016-00000242</td>\n",
       "      <td>3/3/16 6:15</td>\n",
       "      <td>BURGLARY/B&amp;E</td>\n",
       "      <td>BURGLARY/B&amp;E</td>\n",
       "      <td>NaN</td>\n",
       "      <td>200 Block HEREFORD DR</td>\n",
       "      <td>NaN</td>\n",
       "      <td>CHARLOTTESVILLE</td>\n",
       "      <td>VA</td>\n",
       "      <td>...</td>\n",
       "      <td>NaN</td>\n",
       "      <td>38.028964</td>\n",
       "      <td>-78.519491</td>\n",
       "      <td>12/20/17 18:23</td>\n",
       "      <td>12/20/17 22:16</td>\n",
       "      <td>POINT (-78.5194913 38.0289641)</td>\n",
       "      <td>6</td>\n",
       "      <td>Thursday</td>\n",
       "      <td>Breaking &amp; Entering</td>\n",
       "      <td>NaN</td>\n",
       "    </tr>\n",
       "    <tr>\n",
       "      <th>2</th>\n",
       "      <td>829425277</td>\n",
       "      <td>2016-00000260</td>\n",
       "      <td>3/7/16 11:33</td>\n",
       "      <td>DISORDERLY CONDUCT</td>\n",
       "      <td>DISORDERLY CONDUCT</td>\n",
       "      <td>NaN</td>\n",
       "      <td>1200 Block LEE ST</td>\n",
       "      <td>NaN</td>\n",
       "      <td>CHARLOTTESVILLE</td>\n",
       "      <td>VA</td>\n",
       "      <td>...</td>\n",
       "      <td>NaN</td>\n",
       "      <td>38.031185</td>\n",
       "      <td>-78.498823</td>\n",
       "      <td>12/20/17 18:23</td>\n",
       "      <td>12/20/17 22:16</td>\n",
       "      <td>POINT (-78.4988225 38.0311849)</td>\n",
       "      <td>11</td>\n",
       "      <td>Monday</td>\n",
       "      <td>Disorder</td>\n",
       "      <td>NaN</td>\n",
       "    </tr>\n",
       "    <tr>\n",
       "      <th>3</th>\n",
       "      <td>829424773</td>\n",
       "      <td>2016-00000263</td>\n",
       "      <td>3/7/16 18:00</td>\n",
       "      <td>THEFT FROM BUILDING</td>\n",
       "      <td>THEFT FROM BUILDING</td>\n",
       "      <td>NaN</td>\n",
       "      <td>1300 Block LEE ST</td>\n",
       "      <td>NaN</td>\n",
       "      <td>CHARLOTTESVILLE</td>\n",
       "      <td>VA</td>\n",
       "      <td>...</td>\n",
       "      <td>NaN</td>\n",
       "      <td>38.031364</td>\n",
       "      <td>-78.498920</td>\n",
       "      <td>12/20/17 18:23</td>\n",
       "      <td>12/20/17 22:16</td>\n",
       "      <td>POINT (-78.4989202 38.0313639)</td>\n",
       "      <td>18</td>\n",
       "      <td>Monday</td>\n",
       "      <td>Theft</td>\n",
       "      <td>NaN</td>\n",
       "    </tr>\n",
       "    <tr>\n",
       "      <th>4</th>\n",
       "      <td>829425578</td>\n",
       "      <td>2016-00000266</td>\n",
       "      <td>3/8/16 19:45</td>\n",
       "      <td>TRESPASS ON REAL PROPERTY</td>\n",
       "      <td>TRESPASS ON REAL PROPERTY</td>\n",
       "      <td>NaN</td>\n",
       "      <td>400 Block MCCORMICK ROAD</td>\n",
       "      <td>NaN</td>\n",
       "      <td>CHARLOTTESVILLE</td>\n",
       "      <td>VA</td>\n",
       "      <td>...</td>\n",
       "      <td>NaN</td>\n",
       "      <td>38.034186</td>\n",
       "      <td>-78.512805</td>\n",
       "      <td>12/20/17 18:23</td>\n",
       "      <td>12/20/17 22:16</td>\n",
       "      <td>POINT (-78.5128051 38.0341859)</td>\n",
       "      <td>19</td>\n",
       "      <td>Tuesday</td>\n",
       "      <td>Property Crime</td>\n",
       "      <td>361237.0</td>\n",
       "    </tr>\n",
       "  </tbody>\n",
       "</table>\n",
       "<p>5 rows × 21 columns</p>\n",
       "</div>"
      ],
      "text/plain": [
       "   incident_id    case_number incident_datetime      incident_type_primary  \\\n",
       "0    829424782  2016-00000240      3/2/16 14:04        THEFT FROM BUILDING   \n",
       "1    829424633  2016-00000242       3/3/16 6:15               BURGLARY/B&E   \n",
       "2    829425277  2016-00000260      3/7/16 11:33         DISORDERLY CONDUCT   \n",
       "3    829424773  2016-00000263      3/7/16 18:00        THEFT FROM BUILDING   \n",
       "4    829425578  2016-00000266      3/8/16 19:45  TRESPASS ON REAL PROPERTY   \n",
       "\n",
       "        incident_description  clearance_type                 address_1  \\\n",
       "0        THEFT FROM BUILDING             NaN    100 Block MCCORMICK RD   \n",
       "1               BURGLARY/B&E             NaN     200 Block HEREFORD DR   \n",
       "2         DISORDERLY CONDUCT             NaN         1200 Block LEE ST   \n",
       "3        THEFT FROM BUILDING             NaN         1300 Block LEE ST   \n",
       "4  TRESPASS ON REAL PROPERTY             NaN  400 Block MCCORMICK ROAD   \n",
       "\n",
       "   address_2             city state  \\\n",
       "0        NaN  CHARLOTTESVILLE    VA   \n",
       "1        NaN  CHARLOTTESVILLE    VA   \n",
       "2        NaN  CHARLOTTESVILLE    VA   \n",
       "3        NaN  CHARLOTTESVILLE    VA   \n",
       "4        NaN  CHARLOTTESVILLE    VA   \n",
       "\n",
       "                            ...                             country  \\\n",
       "0                           ...                                 NaN   \n",
       "1                           ...                                 NaN   \n",
       "2                           ...                                 NaN   \n",
       "3                           ...                                 NaN   \n",
       "4                           ...                                 NaN   \n",
       "\n",
       "    latitude  longitude      created_at      updated_at  \\\n",
       "0  38.036695 -78.505187  12/20/17 18:23  12/20/17 22:16   \n",
       "1  38.028964 -78.519491  12/20/17 18:23  12/20/17 22:16   \n",
       "2  38.031185 -78.498823  12/20/17 18:23  12/20/17 22:16   \n",
       "3  38.031364 -78.498920  12/20/17 18:23  12/20/17 22:16   \n",
       "4  38.034186 -78.512805  12/20/17 18:23  12/20/17 22:16   \n",
       "\n",
       "                                location hour_of_day  day_of_week  \\\n",
       "0  POINT (-78.50518699999999 38.0366948)          14    Wednesday   \n",
       "1         POINT (-78.5194913 38.0289641)           6     Thursday   \n",
       "2         POINT (-78.4988225 38.0311849)          11       Monday   \n",
       "3         POINT (-78.4989202 38.0313639)          18       Monday   \n",
       "4         POINT (-78.5128051 38.0341859)          19      Tuesday   \n",
       "\n",
       "  parent_incident_type  \\\n",
       "0                Theft   \n",
       "1  Breaking & Entering   \n",
       "2             Disorder   \n",
       "3                Theft   \n",
       "4       Property Crime   \n",
       "\n",
       "  University of Virginia Public Engines Shapes - srfu-ji83  \n",
       "0                                           361237.0        \n",
       "1                                                NaN        \n",
       "2                                                NaN        \n",
       "3                                                NaN        \n",
       "4                                           361237.0        \n",
       "\n",
       "[5 rows x 21 columns]"
      ]
     },
     "execution_count": 10,
     "metadata": {},
     "output_type": "execute_result"
    }
   ],
   "source": [
    "# Common imports\n",
    "%matplotlib inline\n",
    "import matplotlib as mpl\n",
    "import numpy as np\n",
    "import os\n",
    "import pandas as pd\n",
    "\n",
    "# You might want to use the following packages\n",
    "from sklearn.model_selection import train_test_split\n",
    "from pandas.plotting import scatter_matrix # optional\n",
    "from sklearn.preprocessing import Imputer\n",
    "from sklearn.preprocessing import LabelEncoder\n",
    "from sklearn.preprocessing import OneHotEncoder\n",
    "from sklearn.pipeline import Pipeline\n",
    "from sklearn.preprocessing import StandardScaler\n",
    "\n",
    "#Reading data on speed limits for each road in VA\n",
    "report = pd.read_csv(\"/Users/ladmin/Hackathons/WICS_Hack/University_of_Virginia.csv\")\n",
    "report.head()"
   ]
  },
  {
   "cell_type": "markdown",
   "metadata": {},
   "source": [
    "## I realized that there are only a specific amount of features that students and residents would care about. These are types of crime, date in which the time occurred, and the location of the crime. So I decided to drop the rest of the features and train the remaining ones"
   ]
  },
  {
   "cell_type": "code",
   "execution_count": 11,
   "metadata": {},
   "outputs": [],
   "source": [
    "report = report.drop(\"country\", axis = 1)\n",
    "report = report.drop(\"clearance_type\", axis = 1)\n",
    "report = report.drop(\"address_2\", axis = 1)\n",
    "report = report.drop(\"University of Virginia Public Engines Shapes - srfu-ji83\", axis = 1)\n",
    "report = report.drop(\"incident_description\", axis = 1)\n",
    "report = report.drop(\"location\", axis = 1)\n",
    "report = report.drop(\"incident_id\", axis = 1)\n",
    "report = report.drop(\"case_number\", axis = 1)\n",
    "report = report.drop(\"address_1\", axis = 1)\n",
    "report = report.drop(\"city\", axis = 1)\n",
    "report = report.drop(\"state\", axis = 1)\n",
    "report = report.drop(\"zip\", axis = 1)\n",
    "report = report.drop(\"created_at\", axis = 1)\n",
    "report = report.drop(\"updated_at\", axis = 1)"
   ]
  },
  {
   "cell_type": "markdown",
   "metadata": {},
   "source": [
    "## Transforming the date text into milliseconds so the dates can be processed easier"
   ]
  },
  {
   "cell_type": "code",
   "execution_count": 12,
   "metadata": {},
   "outputs": [],
   "source": [
    "from datetime import datetime\n",
    "\n",
    "datetime_object = datetime.strptime(report[\"incident_datetime\"][0], \"%m/%d/%y %H:%M\")"
   ]
  },
  {
   "cell_type": "code",
   "execution_count": 13,
   "metadata": {},
   "outputs": [
    {
     "data": {
      "text/plain": [
       "'2016-07'"
      ]
     },
     "execution_count": 13,
     "metadata": {},
     "output_type": "execute_result"
    }
   ],
   "source": [
    "'{:%Y-%m}'.format(datetime.strptime('2016-07-31', '%Y-%m-%d'))"
   ]
  },
  {
   "cell_type": "code",
   "execution_count": 14,
   "metadata": {},
   "outputs": [],
   "source": [
    "for i in report.index:\n",
    "    #Should check all unique values, because there's a few cells that don't start with Original Route Alias\n",
    "    #datetime_object = datetime.strptime(report.at[i,\"incident_datetime\"], \"%m/%d/%y %H:%M\")\n",
    "    datetime_object = '{:%m-%Y}'.format(datetime.strptime(report.at[i,\"incident_datetime\"], \"%m/%d/%y %H:%M\"))\n",
    "    datetime_object = datetime.strptime(datetime_object, \"%m-%Y\")\n",
    "    timestamp = datetime.timestamp(datetime_object)\n",
    "    report.at[i,\"incident_datetime\"] = timestamp"
   ]
  },
  {
   "cell_type": "code",
   "execution_count": 15,
   "metadata": {},
   "outputs": [
    {
     "data": {
      "text/html": [
       "<div>\n",
       "<style scoped>\n",
       "    .dataframe tbody tr th:only-of-type {\n",
       "        vertical-align: middle;\n",
       "    }\n",
       "\n",
       "    .dataframe tbody tr th {\n",
       "        vertical-align: top;\n",
       "    }\n",
       "\n",
       "    .dataframe thead th {\n",
       "        text-align: right;\n",
       "    }\n",
       "</style>\n",
       "<table border=\"1\" class=\"dataframe\">\n",
       "  <thead>\n",
       "    <tr style=\"text-align: right;\">\n",
       "      <th></th>\n",
       "      <th>incident_datetime</th>\n",
       "      <th>incident_type_primary</th>\n",
       "      <th>latitude</th>\n",
       "      <th>longitude</th>\n",
       "      <th>hour_of_day</th>\n",
       "      <th>day_of_week</th>\n",
       "      <th>parent_incident_type</th>\n",
       "    </tr>\n",
       "  </thead>\n",
       "  <tbody>\n",
       "    <tr>\n",
       "      <th>0</th>\n",
       "      <td>1.45681e+09</td>\n",
       "      <td>THEFT FROM BUILDING</td>\n",
       "      <td>38.036695</td>\n",
       "      <td>-78.505187</td>\n",
       "      <td>14</td>\n",
       "      <td>Wednesday</td>\n",
       "      <td>Theft</td>\n",
       "    </tr>\n",
       "    <tr>\n",
       "      <th>1</th>\n",
       "      <td>1.45681e+09</td>\n",
       "      <td>BURGLARY/B&amp;E</td>\n",
       "      <td>38.028964</td>\n",
       "      <td>-78.519491</td>\n",
       "      <td>6</td>\n",
       "      <td>Thursday</td>\n",
       "      <td>Breaking &amp; Entering</td>\n",
       "    </tr>\n",
       "    <tr>\n",
       "      <th>2</th>\n",
       "      <td>1.45681e+09</td>\n",
       "      <td>DISORDERLY CONDUCT</td>\n",
       "      <td>38.031185</td>\n",
       "      <td>-78.498823</td>\n",
       "      <td>11</td>\n",
       "      <td>Monday</td>\n",
       "      <td>Disorder</td>\n",
       "    </tr>\n",
       "    <tr>\n",
       "      <th>3</th>\n",
       "      <td>1.45681e+09</td>\n",
       "      <td>THEFT FROM BUILDING</td>\n",
       "      <td>38.031364</td>\n",
       "      <td>-78.498920</td>\n",
       "      <td>18</td>\n",
       "      <td>Monday</td>\n",
       "      <td>Theft</td>\n",
       "    </tr>\n",
       "    <tr>\n",
       "      <th>4</th>\n",
       "      <td>1.45681e+09</td>\n",
       "      <td>TRESPASS ON REAL PROPERTY</td>\n",
       "      <td>38.034186</td>\n",
       "      <td>-78.512805</td>\n",
       "      <td>19</td>\n",
       "      <td>Tuesday</td>\n",
       "      <td>Property Crime</td>\n",
       "    </tr>\n",
       "  </tbody>\n",
       "</table>\n",
       "</div>"
      ],
      "text/plain": [
       "  incident_datetime      incident_type_primary   latitude  longitude  \\\n",
       "0       1.45681e+09        THEFT FROM BUILDING  38.036695 -78.505187   \n",
       "1       1.45681e+09               BURGLARY/B&E  38.028964 -78.519491   \n",
       "2       1.45681e+09         DISORDERLY CONDUCT  38.031185 -78.498823   \n",
       "3       1.45681e+09        THEFT FROM BUILDING  38.031364 -78.498920   \n",
       "4       1.45681e+09  TRESPASS ON REAL PROPERTY  38.034186 -78.512805   \n",
       "\n",
       "   hour_of_day day_of_week parent_incident_type  \n",
       "0           14   Wednesday                Theft  \n",
       "1            6    Thursday  Breaking & Entering  \n",
       "2           11      Monday             Disorder  \n",
       "3           18      Monday                Theft  \n",
       "4           19     Tuesday       Property Crime  "
      ]
     },
     "execution_count": 15,
     "metadata": {},
     "output_type": "execute_result"
    }
   ],
   "source": [
    "report.head()"
   ]
  },
  {
   "cell_type": "code",
   "execution_count": 16,
   "metadata": {},
   "outputs": [
    {
     "data": {
      "text/plain": [
       "1195"
      ]
     },
     "execution_count": 16,
     "metadata": {},
     "output_type": "execute_result"
    }
   ],
   "source": [
    "len(report)"
   ]
  },
  {
   "cell_type": "code",
   "execution_count": 17,
   "metadata": {},
   "outputs": [
    {
     "data": {
      "text/plain": [
       "Theft                   474\n",
       "Assault                 273\n",
       "Property Crime          142\n",
       "Drugs                   134\n",
       "Theft from Vehicle       55\n",
       "Breaking & Entering      49\n",
       "Disorder                 45\n",
       "Theft of Vehicle         13\n",
       "Kidnapping                4\n",
       "Other Sexual Offense      3\n",
       "Robbery                   2\n",
       "Arson                     1\n",
       "Name: parent_incident_type, dtype: int64"
      ]
     },
     "execution_count": 17,
     "metadata": {},
     "output_type": "execute_result"
    }
   ],
   "source": [
    "report[\"parent_incident_type\"].value_counts()"
   ]
  },
  {
   "cell_type": "code",
   "execution_count": 18,
   "metadata": {},
   "outputs": [
    {
     "data": {
      "text/plain": [
       "Friday       207\n",
       "Wednesday    183\n",
       "Tuesday      177\n",
       "Monday       174\n",
       "Thursday     171\n",
       "Saturday     144\n",
       "Sunday       139\n",
       "Name: day_of_week, dtype: int64"
      ]
     },
     "execution_count": 18,
     "metadata": {},
     "output_type": "execute_result"
    }
   ],
   "source": [
    "report[\"day_of_week\"].value_counts()"
   ]
  },
  {
   "cell_type": "markdown",
   "metadata": {},
   "source": [
    "## Here I drop instances in types of crime in which there are very few frequencies. There were very few arson, robbery, and obscene crimes so I had to drop them in order to prevent them from skewing the model"
   ]
  },
  {
   "cell_type": "code",
   "execution_count": 19,
   "metadata": {},
   "outputs": [
    {
     "name": "stdout",
     "output_type": "stream",
     "text": [
      "0\n",
      "151\n",
      "0\n",
      "265\n",
      "0\n",
      "296\n",
      "0\n",
      "301\n",
      "0\n",
      "609\n",
      "0\n",
      "878\n"
     ]
    }
   ],
   "source": [
    "# index_list = []\n",
    "\n",
    "for i in report.index:\n",
    "    if (report.at[i,\"incident_type_primary\"].find(\"ARSON\") != -1):\n",
    "        find = report.at[i,\"incident_type_primary\"].find(\"ARSON\")\n",
    "        print(find)\n",
    "        print(i)\n",
    "        report = report.drop(i)\n",
    "        #index_list.append(i)\n",
    "    elif (report.at[i,\"incident_type_primary\"].find(\"ROBBERY\") != -1):\n",
    "        find = report.at[i,\"incident_type_primary\"].find(\"ROBBERY\")\n",
    "        print(find)\n",
    "        print(i)\n",
    "        report = report.drop(i)\n",
    "        #index_list.append(i)\n",
    "    elif (report.at[i,\"incident_type_primary\"].find(\"PORNOGRAPHY/OBSCENE MATERIAL\") != -1):\n",
    "        find = report.at[i,\"incident_type_primary\"].find(\"PORNOGRAPHY/OBSCENE MATERIAL\")\n",
    "        if(find == 0):\n",
    "            print(find)\n",
    "            print(i)\n",
    "            report = report.drop(i)\n",
    "            #index_list.append(i)\n",
    "    else:\n",
    "        pass\n",
    "        "
   ]
  },
  {
   "cell_type": "code",
   "execution_count": 20,
   "metadata": {},
   "outputs": [
    {
     "data": {
      "text/html": [
       "<div>\n",
       "<style scoped>\n",
       "    .dataframe tbody tr th:only-of-type {\n",
       "        vertical-align: middle;\n",
       "    }\n",
       "\n",
       "    .dataframe tbody tr th {\n",
       "        vertical-align: top;\n",
       "    }\n",
       "\n",
       "    .dataframe thead th {\n",
       "        text-align: right;\n",
       "    }\n",
       "</style>\n",
       "<table border=\"1\" class=\"dataframe\">\n",
       "  <thead>\n",
       "    <tr style=\"text-align: right;\">\n",
       "      <th></th>\n",
       "      <th>incident_datetime</th>\n",
       "      <th>incident_type_primary</th>\n",
       "      <th>latitude</th>\n",
       "      <th>longitude</th>\n",
       "      <th>hour_of_day</th>\n",
       "      <th>day_of_week</th>\n",
       "      <th>parent_incident_type</th>\n",
       "    </tr>\n",
       "  </thead>\n",
       "  <tbody>\n",
       "    <tr>\n",
       "      <th>0</th>\n",
       "      <td>1.45681e+09</td>\n",
       "      <td>THEFT FROM BUILDING</td>\n",
       "      <td>38.036695</td>\n",
       "      <td>-78.505187</td>\n",
       "      <td>14</td>\n",
       "      <td>Wednesday</td>\n",
       "      <td>Theft</td>\n",
       "    </tr>\n",
       "    <tr>\n",
       "      <th>1</th>\n",
       "      <td>1.45681e+09</td>\n",
       "      <td>BURGLARY/B&amp;E</td>\n",
       "      <td>38.028964</td>\n",
       "      <td>-78.519491</td>\n",
       "      <td>6</td>\n",
       "      <td>Thursday</td>\n",
       "      <td>Breaking &amp; Entering</td>\n",
       "    </tr>\n",
       "    <tr>\n",
       "      <th>2</th>\n",
       "      <td>1.45681e+09</td>\n",
       "      <td>DISORDERLY CONDUCT</td>\n",
       "      <td>38.031185</td>\n",
       "      <td>-78.498823</td>\n",
       "      <td>11</td>\n",
       "      <td>Monday</td>\n",
       "      <td>Disorder</td>\n",
       "    </tr>\n",
       "    <tr>\n",
       "      <th>3</th>\n",
       "      <td>1.45681e+09</td>\n",
       "      <td>THEFT FROM BUILDING</td>\n",
       "      <td>38.031364</td>\n",
       "      <td>-78.498920</td>\n",
       "      <td>18</td>\n",
       "      <td>Monday</td>\n",
       "      <td>Theft</td>\n",
       "    </tr>\n",
       "    <tr>\n",
       "      <th>4</th>\n",
       "      <td>1.45681e+09</td>\n",
       "      <td>TRESPASS ON REAL PROPERTY</td>\n",
       "      <td>38.034186</td>\n",
       "      <td>-78.512805</td>\n",
       "      <td>19</td>\n",
       "      <td>Tuesday</td>\n",
       "      <td>Property Crime</td>\n",
       "    </tr>\n",
       "  </tbody>\n",
       "</table>\n",
       "</div>"
      ],
      "text/plain": [
       "  incident_datetime      incident_type_primary   latitude  longitude  \\\n",
       "0       1.45681e+09        THEFT FROM BUILDING  38.036695 -78.505187   \n",
       "1       1.45681e+09               BURGLARY/B&E  38.028964 -78.519491   \n",
       "2       1.45681e+09         DISORDERLY CONDUCT  38.031185 -78.498823   \n",
       "3       1.45681e+09        THEFT FROM BUILDING  38.031364 -78.498920   \n",
       "4       1.45681e+09  TRESPASS ON REAL PROPERTY  38.034186 -78.512805   \n",
       "\n",
       "   hour_of_day day_of_week parent_incident_type  \n",
       "0           14   Wednesday                Theft  \n",
       "1            6    Thursday  Breaking & Entering  \n",
       "2           11      Monday             Disorder  \n",
       "3           18      Monday                Theft  \n",
       "4           19     Tuesday       Property Crime  "
      ]
     },
     "execution_count": 20,
     "metadata": {},
     "output_type": "execute_result"
    }
   ],
   "source": [
    "report.head()"
   ]
  },
  {
   "cell_type": "markdown",
   "metadata": {},
   "source": [
    "## Here I create two separate training sets, for longitude and latitude pairs "
   ]
  },
  {
   "cell_type": "code",
   "execution_count": 24,
   "metadata": {
    "scrolled": true
   },
   "outputs": [],
   "source": [
    "long_x = report.drop('longitude', axis = 1)\n",
    "long_y = report['longitude']\n",
    "# X_train, X_test, y_train, y_test = train_test_split(rep_x, rep_y, shuffle = True, stratify=rep_y, test_size=0.20)\n",
    "long_X_train, long_X_test, long_y_train, long_y_test = train_test_split(long_x, long_y, test_size=0.20)"
   ]
  },
  {
   "cell_type": "code",
   "execution_count": 25,
   "metadata": {},
   "outputs": [],
   "source": [
    "lat_x = report.drop('latitude', axis = 1)\n",
    "lat_y = report['latitude']\n",
    "# X_train, X_test, y_train, y_test = train_test_split(rep_x, rep_y, shuffle = True, stratify=rep_y, test_size=0.20)\n",
    "lat_X_train, lat_X_test, lat_y_train, lat_y_test = train_test_split(lat_x, lat_y, test_size=0.20)"
   ]
  },
  {
   "cell_type": "code",
   "execution_count": 26,
   "metadata": {},
   "outputs": [],
   "source": [
    "from sklearn.preprocessing import OneHotEncoder\n",
    "from sklearn.pipeline import Pipeline\n",
    "from sklearn.compose import ColumnTransformer\n",
    "\n",
    "cat_attribs = ['incident_type_primary', 'parent_incident_type', 'day_of_week']\n",
    "#'Building Number', 'State'\n",
    "full_pipeline = ColumnTransformer([\n",
    "        #(\"num\", num_pipeline, num_attribs),\n",
    "        (\"cat\", OneHotEncoder(), cat_attribs),\n",
    "    ])"
   ]
  },
  {
   "cell_type": "code",
   "execution_count": 27,
   "metadata": {},
   "outputs": [],
   "source": [
    "long_X_train = full_pipeline.fit_transform(long_X_train)\n",
    "long_X_test = full_pipeline.transform(long_X_test)"
   ]
  },
  {
   "cell_type": "code",
   "execution_count": 28,
   "metadata": {},
   "outputs": [],
   "source": [
    "lat_X_train = full_pipeline.fit_transform(lat_X_train)\n",
    "lat_X_test = full_pipeline.transform(lat_X_test)"
   ]
  },
  {
   "cell_type": "markdown",
   "metadata": {},
   "source": [
    "## Here the RMSEs are really small, could be a symptom of overfitting"
   ]
  },
  {
   "cell_type": "code",
   "execution_count": 35,
   "metadata": {},
   "outputs": [
    {
     "name": "stdout",
     "output_type": "stream",
     "text": [
      "SGD RMSE: 5.848983720315143\n",
      "SGD RMSE: 114.30583863706933\n"
     ]
    },
    {
     "name": "stderr",
     "output_type": "stream",
     "text": [
      "/anaconda3/lib/python3.7/site-packages/sklearn/linear_model/stochastic_gradient.py:166: FutureWarning: max_iter and tol parameters have been added in SGDRegressor in 0.19. If both are left unset, they default to max_iter=5 and tol=None. If tol is not None, max_iter defaults to max_iter=1000. From 0.21, default max_iter will be 1000, and default tol will be 1e-3.\n",
      "  FutureWarning)\n"
     ]
    }
   ],
   "source": [
    "from sklearn.linear_model import LinearRegression\n",
    "from sklearn.metrics import mean_squared_error\n",
    "\n",
    "from sklearn.linear_model import SGDRegressor\n",
    "mySGDModel = SGDRegressor()\n",
    "mySGDModel.fit(lat_X_train, lat_y_train)\n",
    "y_lat = mySGDModel.predict(lat_X_test)\n",
    "mse = mean_squared_error(lat_y_test, y_lat)\n",
    "mySGDModel_rmse = np.sqrt(mse)\n",
    "print(\"SGD RMSE: \" + str(mySGDModel_rmse))\n",
    "\n",
    "mySGDModel.fit(lat_X_train, lat_y_train)\n",
    "y_long = mySGDModel.predict(lat_X_test)\n",
    "mse = mean_squared_error(long_y_test, y_long)\n",
    "mySGDModel_rmse = np.sqrt(mse)\n",
    "print(\"SGD RMSE: \" + str(mySGDModel_rmse))"
   ]
  },
  {
   "cell_type": "code",
   "execution_count": 36,
   "metadata": {},
   "outputs": [],
   "source": [
    "coord = []\n",
    "coord.append(y_lat.T)\n",
    "coord.append(y_long.T)"
   ]
  },
  {
   "cell_type": "code",
   "execution_count": 39,
   "metadata": {
    "scrolled": true
   },
   "outputs": [
    {
     "data": {
      "text/plain": [
       "[array([16.36817748, 36.41066271, 15.52873515, 38.47558537, 39.55656444,\n",
       "        28.4560591 , 39.48398054, 39.01769328, 38.68428462, 38.12762671,\n",
       "        12.67022302, 24.50427729, 38.31090524, 35.31838986, 34.9249108 ,\n",
       "        38.79020136, 35.6109668 , 35.48306998, 26.55713662, 37.91742619,\n",
       "        38.12762671, 12.48694448, 39.55656444, 25.79077354, 36.56404905,\n",
       "        38.31090524, 36.56404905, 38.14491811, 39.55656444, 37.84484229,\n",
       "        38.98436044, 39.55656444, 38.31090524, 38.47558537, 26.55713662,\n",
       "        35.13511132, 38.71761746, 38.23832135, 38.14491811, 39.48398054,\n",
       "        27.21039991, 38.70307729, 27.02712138, 38.35511863, 38.98436044,\n",
       "        38.71761746, 17.1678734 , 39.01769328, 39.78405636, 38.40300147,\n",
       "        35.48306998, 26.6960318 , 38.98436044, 38.05504281, 38.35511863,\n",
       "        38.35511863, 35.16500352, 30.47731172, 35.32968364, 24.15631863,\n",
       "        35.48306998, 38.31090524, 38.40300147, 34.77152446, 35.6109668 ,\n",
       "        38.70307729, 38.98436044, 35.13511132, 38.70307729, 38.23832135,\n",
       "        38.68428462, 39.55656444, 39.01769328, 35.64429963, 35.6109668 ,\n",
       "        39.55656444, 27.49572771, 23.94611811, 36.41066271, 38.79020136,\n",
       "        39.01769328, 35.79768597, 38.68428462, 39.55656444, 37.91742619,\n",
       "        27.68969602, 36.41066271, 39.48398054, 34.98172498, 39.78405636,\n",
       "        38.12762671, 29.60453655, 38.79020136, 38.40300147, 38.05504281,\n",
       "        35.6109668 , 38.14491811, 24.33959717, 38.98436044, 39.48398054,\n",
       "        38.47558537, 36.41066271, 38.68428462, 34.77152446, 38.35511863,\n",
       "        35.6109668 , 39.55656444, 35.16500352, 38.31090524, 38.71761746,\n",
       "        38.12762671, 39.55656444, 38.40300147, 38.14491811, 38.31090524,\n",
       "        38.12762671, 25.75744071, 38.23832135, 38.47558537, 35.31838986,\n",
       "        39.01769328, 34.98172498, 38.71761746, 38.71761746, 35.6109668 ,\n",
       "        35.31838986, 38.70307729, 34.9249108 , 26.72936463, 38.47558537,\n",
       "        38.47558537, 24.50427729, 38.35511863, 35.13511132, 39.01769328,\n",
       "        38.71761746, 36.56404905, 38.31090524, 35.16500352, 38.05504281,\n",
       "        39.78405636, 38.98436044, 39.55656444, 38.98436044, 25.75744071,\n",
       "        35.32968364, 38.35511863, 38.70307729, 38.47558537, 39.78405636,\n",
       "        35.76435314, 21.83473305, 38.40300147, 39.78405636, 38.23832135,\n",
       "        38.12762671, 38.70307729, 38.68428462, 38.75686852, 38.12762671,\n",
       "        35.16500352, 34.98172498, 38.40300147, 39.55656444, 38.12762671,\n",
       "        35.16500352, 34.9249108 , 38.14491811, 39.01769328, 34.9249108 ,\n",
       "        39.01769328, 26.6960318 , 38.53839717, 25.85658946, 38.70307729,\n",
       "        37.91742619, 38.98436044, 38.23832135, 34.77152446, 38.05504281,\n",
       "        38.53839717, 38.31090524, 38.98436044, 36.56404905, 24.78556045,\n",
       "        26.41474864, 35.13511132, 25.12819889, 35.76435314, 38.68428462,\n",
       "        36.56404905, 38.35511863, 35.79768597, 26.72936463, 38.12762671,\n",
       "        39.55656444, 38.35511863, 36.56404905, 38.79020136, 39.55656444,\n",
       "        25.47615755, 38.71761746, 38.71761746, 26.55713662, 38.98436044,\n",
       "        39.48398054, 38.70307729, 38.68428462, 24.50427729, 38.12762671,\n",
       "        38.31090524, 24.91799837, 35.13511132, 39.78405636, 38.05504281,\n",
       "        24.50427729, 37.91742619, 39.48398054, 38.12762671, 27.65636319,\n",
       "        38.79020136, 38.31090524, 24.15631863, 34.9249108 , 38.98436044,\n",
       "        38.05504281, 38.31090524, 38.40300147, 38.47558537, 39.55656444,\n",
       "        37.91742619, 38.47558537, 38.31090524, 38.05504281, 39.01769328,\n",
       "        35.13511132, 37.91742619, 26.72936463]),\n",
       " array([16.86074664, 35.98904401, 16.0176553 , 38.18238784, 39.31826409,\n",
       "        28.63023578, 39.0826284 , 39.10759411, 38.64955959, 38.38301228,\n",
       "        12.67952383, 24.47546163, 38.18308815, 35.18230202, 35.04131781,\n",
       "        38.6463509 , 35.5559752 , 35.18160171, 26.59039536, 38.04210394,\n",
       "        38.38301228, 12.87944797, 39.31826409, 25.91848218, 36.31747796,\n",
       "        38.18308815, 36.31747796, 38.50334714, 39.31826409, 37.80646825,\n",
       "        39.34643848, 39.31826409, 38.18308815, 38.18238784, 26.59039536,\n",
       "        35.38222615, 38.41071522, 37.94745246, 38.50334714, 39.0826284 ,\n",
       "        27.49505984, 38.64363104, 27.69498397, 38.84425548, 39.34643848,\n",
       "        38.41071522, 17.29381545, 39.10759411, 39.77950729, 37.94675215,\n",
       "        35.18160171, 26.81737079, 39.34643848, 38.14737659, 38.84425548,\n",
       "        38.84425548, 34.85386807, 30.36279562, 34.85316777, 24.67608607,\n",
       "        35.18160171, 38.18308815, 37.94675215, 34.71288386, 35.5559752 ,\n",
       "        38.64363104, 39.34643848, 35.38222615, 38.64363104, 37.94745246,\n",
       "        38.64955959, 39.31826409, 39.10759411, 35.31713083, 35.5559752 ,\n",
       "        39.31826409, 27.2504396 , 24.33517772, 35.98904401, 38.6463509 ,\n",
       "        39.10759411, 35.64556478, 38.64955959, 39.31826409, 38.04210394,\n",
       "        27.9583226 , 35.98904401, 39.0826284 , 35.05379221, 39.77950729,\n",
       "        38.38301228, 29.75854865, 38.6463509 , 37.94675215, 38.14737659,\n",
       "        35.5559752 , 38.50334714, 24.47616193, 39.34643848, 39.0826284 ,\n",
       "        38.18238784, 35.98904401, 38.64955959, 34.71288386, 38.84425548,\n",
       "        35.5559752 , 39.31826409, 34.85386807, 38.18308815, 38.41071522,\n",
       "        38.38301228, 39.31826409, 37.94675215, 38.50334714, 38.18308815,\n",
       "        38.38301228, 26.15732655, 37.94745246, 38.18238784, 35.18230202,\n",
       "        39.10759411, 35.05379221, 38.41071522, 38.41071522, 35.5559752 ,\n",
       "        35.18230202, 38.64363104, 35.04131781, 26.57852642, 38.18238784,\n",
       "        38.18238784, 24.47546163, 38.84425548, 35.38222615, 39.10759411,\n",
       "        38.41071522, 36.31747796, 38.18308815, 34.85386807, 38.14737659,\n",
       "        39.77950729, 39.34643848, 39.31826409, 39.34643848, 26.15732655,\n",
       "        34.85316777, 38.84425548, 38.64363104, 38.18238784, 39.77950729,\n",
       "        35.88440915, 21.52053198, 37.94675215, 39.77950729, 37.94745246,\n",
       "        38.38301228, 38.64363104, 38.64955959, 38.88519527, 38.38301228,\n",
       "        34.85386807, 35.05379221, 37.94675215, 39.31826409, 38.38301228,\n",
       "        34.85386807, 35.04131781, 38.50334714, 39.10759411, 35.04131781,\n",
       "        39.10759411, 26.81737079, 38.64433135, 25.97427946, 38.64363104,\n",
       "        38.04210394, 39.34643848, 37.94745246, 34.71288386, 38.14737659,\n",
       "        38.64433135, 38.18308815, 39.34643848, 36.31747796, 25.17826906,\n",
       "        26.11456336, 35.38222615, 25.65514356, 35.88440915, 38.64955959,\n",
       "        36.31747796, 38.84425548, 35.64556478, 26.57852642, 38.38301228,\n",
       "        39.31826409, 38.84425548, 36.31747796, 38.6463509 , 39.31826409,\n",
       "        25.45451912, 38.41071522, 38.41071522, 26.59039536, 39.34643848,\n",
       "        39.0826284 , 38.64363104, 38.64955959, 24.47546163, 38.38301228,\n",
       "        38.18308815, 25.31423521, 35.38222615, 39.77950729, 38.14737659,\n",
       "        24.47546163, 38.04210394, 39.0826284 , 38.38301228, 28.19716697,\n",
       "        38.6463509 , 38.18308815, 24.67608607, 35.04131781, 39.34643848,\n",
       "        38.14737659, 38.18308815, 37.94675215, 38.18238784, 39.31826409,\n",
       "        38.04210394, 38.18238784, 38.18308815, 38.14737659, 39.10759411,\n",
       "        35.38222615, 38.04210394, 26.57852642])]"
      ]
     },
     "execution_count": 39,
     "metadata": {},
     "output_type": "execute_result"
    }
   ],
   "source": [
    "coord"
   ]
  },
  {
   "cell_type": "code",
   "execution_count": 44,
   "metadata": {},
   "outputs": [],
   "source": [
    "df1 = pd.DataFrame(y_long)\n",
    "df2 = pd.DataFrame(y_lat)"
   ]
  },
  {
   "cell_type": "code",
   "execution_count": 47,
   "metadata": {},
   "outputs": [],
   "source": [
    "df3 = pd.concat([df1, df2], axis = 1)\n",
    "df3.columns = [\"longitude\", \"latitude\"]"
   ]
  },
  {
   "cell_type": "markdown",
   "metadata": {},
   "source": [
    "## In the end I was not able to obtain locations of crimes in the way I wanted to. Instead the graph just shows a straight linear line. I think this could have been solved by making sure the data that gets splitted was the same in both latitude and longitude pairs."
   ]
  },
  {
   "cell_type": "code",
   "execution_count": 48,
   "metadata": {
    "scrolled": true
   },
   "outputs": [
    {
     "data": {
      "image/png": "[encoded data removed]",
      "text/plain": [
       "<Figure size 720x504 with 1 Axes>"
      ]
     },
     "metadata": {
      "needs_background": "light"
     },
     "output_type": "display_data"
    }
   ],
   "source": [
    "# Your code goes here\n",
    "import matplotlib.pyplot as plt\n",
    "ax = df3.plot(kind=\"scatter\", x=\"longitude\", y=\"latitude\", figsize=(10,7),\n",
    "                       #s=df3['population']/100, label=\"Population\",\n",
    "                       #c=\"regions\", cmap=plt.get_cmap(\"jet\"),\n",
    "                       #colorbar=True, alpha=0.4,\n",
    "                      )\n",
    "plt.ylabel(\"Latitude\", fontsize=14)\n",
    "plt.xlabel(\"Longitude\", fontsize=14)\n",
    "plt.show()\n",
    "\n",
    "# Your paragraph goes here for this section"
   ]
  }
 ],
 "metadata": {
  "kernelspec": {
   "display_name": "Python 3",
   "language": "python",
   "name": "python3"
  },
  "language_info": {
   "codemirror_mode": {
    "name": "ipython",
    "version": 3
   },
   "file_extension": ".py",
   "mimetype": "text/x-python",
   "name": "python",
   "nbconvert_exporter": "python",
   "pygments_lexer": "ipython3",
   "version": "3.7.1"
  }
 },
 "nbformat": 4,
 "nbformat_minor": 2
}
